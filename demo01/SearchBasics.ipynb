{
 "cells": [
  {
   "cell_type": "markdown",
   "metadata": {},
   "source": [
    "## Basic Search Demo\n",
    "\n",
    "Demonstrates the basic use of the Best-First Search idea on the 8-puzzle."
   ]
  },
  {
   "cell_type": "code",
   "execution_count": 1,
   "metadata": {},
   "outputs": [],
   "source": [
    "# imports and setup\n",
    "import heapq\n",
    "import math\n",
    "import numpy as np\n",
    "import random\n",
    "\n",
    "from enum import Enum\n",
    "from IPython.display import Image"
   ]
  },
  {
   "cell_type": "markdown",
   "metadata": {},
   "source": [
    "### Defining some basic elements of the 8-puzzle domain\n",
    "We begin by specifying some of the basic elements of the 8-puzzle, including the 4 actions available, and the solution goal-state. States will be encoded as 2-dimensional integer arrays, where 0 is used to represent the blank square."
   ]
  },
  {
   "cell_type": "code",
   "execution_count": 2,
   "metadata": {},
   "outputs": [],
   "source": [
    "# Grid constant\n",
    "GRID_SIZE = 3\n",
    "\n",
    "# Action constants\n",
    "class Action(Enum):\n",
    "    UP = 1\n",
    "    RIGHT = 2\n",
    "    LEFT = 3\n",
    "    DOWN = 4\n",
    "    \n",
    "# Goal-state constant\n",
    "GOAL_STATE = np.array([[1, 2, 3], [4, 5, 6], [7, 8, 0]])"
   ]
  },
  {
   "cell_type": "code",
   "execution_count": 3,
   "metadata": {},
   "outputs": [],
   "source": [
    "def action_is_legal(puzzle_state, action):\n",
    "    '''Determines whether a given action is legal for a puzzle-state.\n",
    "       Actions are legal if and only if taking that action would not\n",
    "       require moving the blank square outside the grid.\n",
    "       \n",
    "       Args\n",
    "       ----\n",
    "       puzzle_state: a 2-dimensional array containing some permutation of]\n",
    "           the integers in [0,8]\n",
    "       action: some one of the actions available in the enumeration Action\n",
    "       \n",
    "       Returns\n",
    "       -------\n",
    "       boolean value: true if and only if action is legal in puzzle_state\n",
    "    '''\n",
    "    is_blank = np.argwhere(puzzle_state==0)\n",
    "    blank_row = is_blank[0][0]\n",
    "    blank_col = is_blank[0][1]\n",
    "    \n",
    "    return (action == Action.UP and blank_row > 0) \\\n",
    "        or (action == Action.DOWN and blank_row < GRID_SIZE - 1) \\\n",
    "        or (action == Action.LEFT and blank_col > 0) \\\n",
    "        or (action == Action.RIGHT and blank_col < GRID_SIZE - 1)"
   ]
  },
  {
   "cell_type": "code",
   "execution_count": 4,
   "metadata": {},
   "outputs": [],
   "source": [
    "def get_next_state(puzzle_state, action):\n",
    "    '''Returns next state reached from a state, after an action.\n",
    "       \n",
    "       Args\n",
    "       ----\n",
    "       puzzle_state: a 2-dimensional array containing some permutation of]\n",
    "           the integers in [0,8]\n",
    "       action: some one of the actions available in the enumeration Action\n",
    "       \n",
    "       Returns\n",
    "       -------\n",
    "       boolean value: the next state after taking action in puzzle_state;\n",
    "           represented as 2-dimensional array, like puzzle_state\n",
    "           \n",
    "       Exceptions\n",
    "       ----------\n",
    "       Exception raised if not action_is_legal(puzzle_state, action)\n",
    "    '''\n",
    "    next_state = np.ndarray.copy(puzzle_state)\n",
    "    \n",
    "    is_blank = np.argwhere(puzzle_state==0)\n",
    "    blank_row = is_blank[0][0]\n",
    "    blank_col = is_blank[0][1]\n",
    "    \n",
    "    if not action_is_legal(puzzle_state, action):\n",
    "        raise Exception(\n",
    "            'Action {} not legal; position of blank is [{}, {}]'.format(action.name, blank_row, blank_col))\n",
    "    \n",
    "    target_row = blank_row\n",
    "    target_col = blank_col\n",
    "    \n",
    "    if action == Action.UP:\n",
    "        target_row = target_row - 1\n",
    "    elif action == Action.DOWN:\n",
    "        target_row = target_row + 1\n",
    "    elif action == Action.LEFT:\n",
    "        target_col = target_col - 1\n",
    "    elif action == Action.RIGHT:\n",
    "        target_col = target_col + 1\n",
    "                \n",
    "    next_state[blank_row][blank_col], next_state[target_row][target_col] = \\\n",
    "        next_state[target_row][target_col], next_state[blank_row][blank_col]\n",
    "    \n",
    "    return next_state"
   ]
  },
  {
   "cell_type": "code",
   "execution_count": 5,
   "metadata": {},
   "outputs": [],
   "source": [
    "def get_possible_actions(puzzle_state):\n",
    "    '''Generates lists of possible actions and the states that result from them,\n",
    "       starting in puzzle_state.\n",
    "       \n",
    "       Args\n",
    "       ----\n",
    "       puzzle_state: a 2-dimensional array containing some permutation of]\n",
    "           the integers in [0,8]\n",
    "       \n",
    "       Returns\n",
    "       -------\n",
    "       action_list: list of Action items legal in puzzle_state\n",
    "       next_state_list: list of puzzle configurations reachable by taking actions\n",
    "           Note: each element of next_state_list is the 2-dimensional array\n",
    "                 configuration that is reached after taking the matching action\n",
    "                 from action_list in puzzle_state\n",
    "    '''\n",
    "    action_list = list()\n",
    "    next_state_list = list()\n",
    "    \n",
    "    is_blank = np.argwhere(puzzle_state==0)\n",
    "    blank_row = is_blank[0][0]\n",
    "    blank_col = is_blank[0][1]\n",
    "    \n",
    "    for action in Action:\n",
    "        if action_is_legal(puzzle_state, action):\n",
    "            action_list.append(action)\n",
    "            next_state_list.append(get_next_state(puzzle_state, action))\n",
    "    \n",
    "    return action_list, next_state_list"
   ]
  },
  {
   "cell_type": "markdown",
   "metadata": {},
   "source": [
    "### Generating a random starting state\n",
    "In order to initialize an 8-puzzle instance properly, we need to ensure that the instance is actually solvable.  Simply generating some random arrangement of the \"tiles\" (0..8) will *not* work in general–if we do so, it is possible that there is no actual way to use legal moves to get to the desired solution.\n",
    "\n",
    "One way of guaranteeing solvable instances is to begin with the desired goal state, and then make random moves from that configuration.  This guarantees that we can, at worst, reverse that sequence of moves to solve the puzzle; of course, it may be that there is some shorter solution, since our random moves may, for example, repeat configurations along the way."
   ]
  },
  {
   "cell_type": "code",
   "execution_count": 6,
   "metadata": {},
   "outputs": [],
   "source": [
    "def generate_random_start_state(random_moves=25):\n",
    "    '''Generates a random start state for the 8-puzzle.\n",
    "       To ensure a reachable solution, starts with goal state\n",
    "       and permutes randomly using legal moves.\n",
    "       \n",
    "       Args\n",
    "       ----\n",
    "       random_moves: number of moves to make from GOAL_STATE\n",
    "       \n",
    "       Returns\n",
    "       -------\n",
    "       puzzle_state: puzzle configuration reached after taking random_moves legal actions\n",
    "           at random from GOAL_STATE\n",
    "    '''  \n",
    "    puzzle_state = np.ndarray.copy(GOAL_STATE)\n",
    "    for i in range(random_moves):\n",
    "        action_list, next_state_list = get_possible_actions(puzzle_state)\n",
    "        puzzle_state = random.choice(next_state_list)\n",
    "        \n",
    "    return puzzle_state"
   ]
  },
  {
   "cell_type": "markdown",
   "metadata": {},
   "source": [
    "### Encoding a data structure for search-tree nodes"
   ]
  },
  {
   "cell_type": "code",
   "execution_count": 7,
   "metadata": {},
   "outputs": [
    {
     "data": {
      "text/html": [
       "<img src=\"search_tree_node.pdf\" width=\"500\"/>"
      ],
      "text/plain": [
       "<IPython.core.display.Image object>"
      ]
     },
     "execution_count": 7,
     "metadata": {},
     "output_type": "execute_result"
    }
   ],
   "source": [
    "Image(url=\"search_tree_node.pdf\", width=500)"
   ]
  },
  {
   "cell_type": "code",
   "execution_count": 8,
   "metadata": {},
   "outputs": [],
   "source": [
    "class TreeNode:\n",
    "    '''Object for storing search-tree node data.\n",
    "    \n",
    "       Members: \n",
    "       --------\n",
    "       state: 8-puzzle configuration as 2-dimensional array\n",
    "       action: Action item that led to this state in search\n",
    "           Note: will be None if and only if this is starting state\n",
    "       cost: depth of node in search-tree\n",
    "       parent: TreeNode that led to this node in search\n",
    "           Note: will be None if and only if this is starting state\n",
    "           \n",
    "        Implicits\n",
    "        ---------\n",
    "        String conversion: defined based upon state.\n",
    "        Comparison: lt (<) operator compares cost.\n",
    "        \n",
    "        Methods\n",
    "        -------\n",
    "        isGoal: returns true if and only if this node's state is identical to GOAL_STATE\n",
    "        \n",
    "        pathCost: returns (cost + 1) if supplied with node that has self as parent\n",
    "            Note: will return arbitrarily large value if node has a different parent\n",
    "    '''\n",
    "    def __init__(self, state, action=None, cost=0, parent=None):\n",
    "        self.state = state\n",
    "        self.action = action\n",
    "        self.cost = cost\n",
    "        self.parent = parent\n",
    "        \n",
    "    def __lt__(self, next_node):\n",
    "        return self.cost < next_node.cost\n",
    "    \n",
    "    def __str__(self):\n",
    "        return str(self.state)\n",
    "    \n",
    "    def isGoal(self):\n",
    "        return str(self) == str(GOAL_STATE)\n",
    "    \n",
    "    def pathCost(self, next_node):\n",
    "        if next_node.parent == self:\n",
    "            return self.cost + 1\n",
    "        \n",
    "        return math.inf\n",
    "    \n",
    "    '''\n",
    "    In the basic version of the node class, actions all have the same cost (1 per step in search),\n",
    "    leading search to always default to breadth-first, since the priority queue will be ordered\n",
    "    by tree depth.  If some actions actually cost more than others, however, we could still order\n",
    "    by path-cost, without it being equivalent to tree-depth.  In such cases the best-first search\n",
    "    algorithm is then identical to Dijkstra's algorithm, searching for a shortest path according\n",
    "    to total action-cost.  \n",
    "\n",
    "    Here is an example in which going UP costs twice as much as other actions:\n",
    "    \n",
    "    def pathCost(self, next_node):\n",
    "        if next_node.parent == self:\n",
    "            if next_node.action == Action.UP:\n",
    "                return self.cost + 2\n",
    "            else:\n",
    "                return self.cost + 1\n",
    "        \n",
    "        return math.inf\n",
    "    '''\n",
    "    "
   ]
  },
  {
   "cell_type": "markdown",
   "metadata": {},
   "source": [
    "### Implementing basic best-first search"
   ]
  },
  {
   "cell_type": "code",
   "execution_count": 9,
   "metadata": {},
   "outputs": [
    {
     "data": {
      "text/html": [
       "<img src=\"bestFirstSearch.pdf\" width=\"750\"/>"
      ],
      "text/plain": [
       "<IPython.core.display.Image object>"
      ]
     },
     "execution_count": 9,
     "metadata": {},
     "output_type": "execute_result"
    }
   ],
   "source": [
    "Image(url=\"bestFirstSearch.pdf\", width=750)"
   ]
  },
  {
   "cell_type": "code",
   "execution_count": 10,
   "metadata": {},
   "outputs": [],
   "source": [
    "def best_first_search(start_state):\n",
    "    '''Performs best-first search from start_state, trying to reach GOAL_STATE.\n",
    "       Order of node expansion given by priority order defined in TreeNode (lt).\n",
    "       \n",
    "       Args\n",
    "       ----\n",
    "       start_state: a 2-dimensional array containing some permutation of]\n",
    "           the integers in [0,8]\n",
    "       \n",
    "       Returns\n",
    "       -------\n",
    "       node: TreeNode with state == GOAL_STATE;\n",
    "           will be None if no solution can be found from start_state\n",
    "           (this will not happen here, but can happen if start_state is some\n",
    "            random permutation of [0,8] rather than one generated by function\n",
    "            generate_random_start_state())\n",
    "    ''' \n",
    "    node = TreeNode(state=start_state) \n",
    "    frontier = [node]\n",
    "    heapq.heapify(frontier)\n",
    "    reached = {str(node): node}\n",
    "    \n",
    "    while frontier:\n",
    "        node = heapq.heappop(frontier)\n",
    "        if node.isGoal():\n",
    "            return node\n",
    "        \n",
    "        next_action_list, next_state_list = get_possible_actions(node.state)\n",
    "        for i in range(len(next_state_list)):\n",
    "            child = TreeNode(next_state_list[i], next_action_list[i], 0, node)\n",
    "            child.cost = node.pathCost(child)\n",
    "            if (str(child) not in reached) or (child.cost < reached[str(child)].cost):\n",
    "                reached.update({str(child):child})\n",
    "                heapq.heappush(frontier, child)\n",
    "    \n",
    "    return None"
   ]
  },
  {
   "cell_type": "code",
   "execution_count": 11,
   "metadata": {},
   "outputs": [],
   "source": [
    "def printSolution(solution_node):\n",
    "    '''Prints out solution path from start-to-finish, after best-first-search.\n",
    "       Back-tracks from solution to start and prints the states and actions of \n",
    "       a solution path, in (start -> solution) order.\n",
    "       \n",
    "       Args\n",
    "       ----\n",
    "       solution_node: a TreeNode returned by best_first_search()\n",
    "    ''' \n",
    "    solution_path = [solution_node]\n",
    "    parent = solution_node.parent\n",
    "    while parent != None:\n",
    "        solution_path.insert(0, parent)\n",
    "        parent = parent.parent\n",
    "        \n",
    "    print(solution_path[0])\n",
    "    for i in range(1, len(solution_path)):\n",
    "        print('Action {}: {}'.format(i, solution_path[i].action))\n",
    "        print(solution_path[i])"
   ]
  },
  {
   "cell_type": "markdown",
   "metadata": {},
   "source": [
    "### Running our solution on some randomly generated problem-instances"
   ]
  },
  {
   "cell_type": "code",
   "execution_count": 12,
   "metadata": {},
   "outputs": [
    {
     "name": "stdout",
     "output_type": "stream",
     "text": [
      "Start state:\n",
      "[[1 2 3]\n",
      " [7 4 5]\n",
      " [8 0 6]]\n"
     ]
    }
   ],
   "source": [
    "start_state = generate_random_start_state()\n",
    "print(\"Start state:\")\n",
    "print(start_state)"
   ]
  },
  {
   "cell_type": "code",
   "execution_count": 13,
   "metadata": {},
   "outputs": [
    {
     "name": "stdout",
     "output_type": "stream",
     "text": [
      "[[1 2 3]\n",
      " [4 5 6]\n",
      " [7 8 0]]\n",
      "Cost = 5\n"
     ]
    }
   ],
   "source": [
    "solution = best_first_search(start_state)\n",
    "print(solution.state)\n",
    "print(\"Cost = {}\".format(solution.cost))"
   ]
  },
  {
   "cell_type": "code",
   "execution_count": 14,
   "metadata": {},
   "outputs": [
    {
     "name": "stdout",
     "output_type": "stream",
     "text": [
      "[[1 2 3]\n",
      " [7 4 5]\n",
      " [8 0 6]]\n",
      "Action 1: Action.LEFT\n",
      "[[1 2 3]\n",
      " [7 4 5]\n",
      " [0 8 6]]\n",
      "Action 2: Action.UP\n",
      "[[1 2 3]\n",
      " [0 4 5]\n",
      " [7 8 6]]\n",
      "Action 3: Action.RIGHT\n",
      "[[1 2 3]\n",
      " [4 0 5]\n",
      " [7 8 6]]\n",
      "Action 4: Action.RIGHT\n",
      "[[1 2 3]\n",
      " [4 5 0]\n",
      " [7 8 6]]\n",
      "Action 5: Action.DOWN\n",
      "[[1 2 3]\n",
      " [4 5 6]\n",
      " [7 8 0]]\n"
     ]
    }
   ],
   "source": [
    "printSolution(solution)"
   ]
  },
  {
   "cell_type": "code",
   "execution_count": null,
   "metadata": {},
   "outputs": [],
   "source": []
  }
 ],
 "metadata": {
  "kernelspec": {
   "display_name": "Python 3",
   "language": "python",
   "name": "python3"
  },
  "language_info": {
   "codemirror_mode": {
    "name": "ipython",
    "version": 3
   },
   "file_extension": ".py",
   "mimetype": "text/x-python",
   "name": "python",
   "nbconvert_exporter": "python",
   "pygments_lexer": "ipython3",
   "version": "3.8.5"
  }
 },
 "nbformat": 4,
 "nbformat_minor": 2
}
