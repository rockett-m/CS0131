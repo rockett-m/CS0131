{
 "cells": [
  {
   "cell_type": "markdown",
   "metadata": {},
   "source": [
    "## Basic Search Demo\n",
    "\n",
    "Demonstrates the basic use of the Best-First Search idea on the 8-puzzle."
   ]
  },
  {
   "cell_type": "code",
   "execution_count": 2,
   "metadata": {},
   "outputs": [],
   "source": [
    "# imports and setup\n",
    "import random\n",
    "import numpy as np\n",
    "from enum import Enum\n",
    "import heapq\n",
    "\n",
    "from IPython.display import Image"
   ]
  },
  {
   "cell_type": "markdown",
   "metadata": {},
   "source": [
    "### Defining some basic elements of the 8-puzzle domain\n",
    "We begin by specifying some of the basic elements of the 8-puzzle, including the 4 actions available, and the solution goal-state. States will be encoded as 2-dimensional integer arrays, where 0 is used to represent the blank square."
   ]
  },
  {
   "cell_type": "code",
   "execution_count": null,
   "metadata": {},
   "outputs": [],
   "source": [
    "# Grid constant\n",
    "GRID_SIZE = 3\n",
    "\n",
    "# Action constants\n",
    "class Action(Enum):\n",
    "    UP = 1\n",
    "    RIGHT = 2\n",
    "    LEFT = 3\n",
    "    DOWN = 4\n",
    "    \n",
    "# Goal-state constant\n",
    "GOAL_STATE = np.array([[1, 2, 3], [4, 5, 6], [7, 8, 0]])"
   ]
  },
  {
   "cell_type": "code",
   "execution_count": null,
   "metadata": {},
   "outputs": [],
   "source": [
    "def action_is_legal(puzzle_state, action):\n",
    "    '''Determines whether a given action is legal for a puzzle-state.\n",
    "       Actions are legal if and only if taking that action would not\n",
    "       require moving the blank square outside the grid.\n",
    "       \n",
    "       Args\n",
    "       ----\n",
    "       puzzle_state: a 2-dimensional array containing some permutation of]\n",
    "           the integers in [0,8]\n",
    "       action: some one of the actions available in the enumeration Action\n",
    "       \n",
    "       Returns\n",
    "       -------\n",
    "       boolean value: true if and only if action is legal in puzzle_state\n",
    "    '''\n",
    "    is_blank = np.argwhere(puzzle_state==0)\n",
    "    blank_row = is_blank[0][0]\n",
    "    blank_col = is_blank[0][1]\n",
    "    \n",
    "    return (action == Action.UP and blank_row > 0) \\\n",
    "        or (action == Action.DOWN and blank_row < GRID_SIZE - 1) \\\n",
    "        or (action == Action.LEFT and blank_col > 0) \\\n",
    "        or (action == Action.RIGHT and blank_col < GRID_SIZE - 1)"
   ]
  },
  {
   "cell_type": "code",
   "execution_count": null,
   "metadata": {},
   "outputs": [],
   "source": [
    "def get_next_state(puzzle_state, action):\n",
    "    '''Returns next state reached from a state, after an action.\n",
    "       \n",
    "       Args\n",
    "       ----\n",
    "       puzzle_state: a 2-dimensional array containing some permutation of]\n",
    "           the integers in [0,8]\n",
    "       action: some one of the actions available in the enumeration Action\n",
    "       \n",
    "       Returns\n",
    "       -------\n",
    "       boolean value: the next state after taking action in puzzle_state;\n",
    "           represented as 2-dimensional array, like puzzle_state\n",
    "           \n",
    "       Exceptions\n",
    "       ----------\n",
    "       Exception raised if not action_is_legal(puzzle_state, action)\n",
    "    '''\n",
    "    next_state = np.ndarray.copy(puzzle_state)\n",
    "    \n",
    "    is_blank = np.argwhere(puzzle_state==0)\n",
    "    blank_row = is_blank[0][0]\n",
    "    blank_col = is_blank[0][1]\n",
    "    \n",
    "    if not action_is_legal(puzzle_state, action):\n",
    "        raise Exception(\n",
    "            'Action {} not legal; position of blank is [{}, {}]'.format(action.name, blank_row, blank_col))\n",
    "    \n",
    "    target_row = blank_row\n",
    "    target_col = blank_col\n",
    "    \n",
    "    if action == Action.UP:\n",
    "        target_row = target_row - 1\n",
    "    elif action == Action.DOWN:\n",
    "        target_row = target_row + 1\n",
    "    elif action == Action.LEFT:\n",
    "        target_col = target_col - 1\n",
    "    elif action == Action.RIGHT:\n",
    "        target_col = target_col + 1\n",
    "                \n",
    "    next_state[blank_row][blank_col], next_state[target_row][target_col] = \\\n",
    "        next_state[target_row][target_col], next_state[blank_row][blank_col]\n",
    "    \n",
    "    return next_state"
   ]
  },
  {
   "cell_type": "code",
   "execution_count": null,
   "metadata": {},
   "outputs": [],
   "source": [
    "def get_possible_actions(puzzle_state):\n",
    "    '''Generates lists of possible actions and the states that result from them,\n",
    "       starting in puzzle_state.\n",
    "       \n",
    "       Args\n",
    "       ----\n",
    "       puzzle_state: a 2-dimensional array containing some permutation of]\n",
    "           the integers in [0,8]\n",
    "       \n",
    "       Returns\n",
    "       -------\n",
    "       action_list: list of Action items legal in puzzle_state\n",
    "       next_state_list: list of puzzle configurations reachable by taking actions\n",
    "           Note: each element of next_state_list is the 2-dimensional array\n",
    "                 configuration that is reached after taking the matching action\n",
    "                 from action_list in puzzle_state\n",
    "    '''\n",
    "    action_list = list()\n",
    "    next_state_list = list()\n",
    "    \n",
    "    is_blank = np.argwhere(puzzle_state==0)\n",
    "    blank_row = is_blank[0][0]\n",
    "    blank_col = is_blank[0][1]\n",
    "    \n",
    "    for action in Action:\n",
    "        if action_is_legal(puzzle_state, action):\n",
    "            action_list.append(action)\n",
    "            next_state_list.append(get_next_state(puzzle_state, action))\n",
    "    \n",
    "    return action_list, next_state_list"
   ]
  },
  {
   "cell_type": "markdown",
   "metadata": {},
   "source": [
    "### Generating a random starting state\n",
    "In order to initialize an 8-puzzle instance properly, we need to ensure that the instance is actually solvable.  Simply generating some random arrangement of the \"tiles\" (0..8) will *not* work in general–if we do so, it is possible that there is no actual way to use legal moves to get to the desired solution.\n",
    "\n",
    "One way of guaranteeing solvable instances is to begin with the desired goal state, and then make random moves from that configuration.  This guarantees that we can, at worst, reverse that sequence of moves to solve the puzzle; of course, it may be that there is some shorter solution, since our random moves may, for example, repeat configurations along the way."
   ]
  },
  {
   "cell_type": "code",
   "execution_count": null,
   "metadata": {},
   "outputs": [],
   "source": []
  },
  {
   "cell_type": "markdown",
   "metadata": {},
   "source": [
    "### Encoding a data structure for search-tree nodes"
   ]
  },
  {
   "cell_type": "code",
   "execution_count": null,
   "metadata": {},
   "outputs": [],
   "source": [
    "Image(url=\"search_tree_node.pdf\", width=500)"
   ]
  },
  {
   "cell_type": "code",
   "execution_count": null,
   "metadata": {},
   "outputs": [],
   "source": []
  },
  {
   "cell_type": "markdown",
   "metadata": {},
   "source": [
    "### Implementing basic best-first search"
   ]
  },
  {
   "cell_type": "code",
   "execution_count": 4,
   "metadata": {},
   "outputs": [
    {
     "data": {
      "text/html": [
       "<img src=\"bestFirstSearch.pdf\" width=\"600\"/>"
      ],
      "text/plain": [
       "<IPython.core.display.Image object>"
      ]
     },
     "execution_count": 4,
     "metadata": {},
     "output_type": "execute_result"
    }
   ],
   "source": [
    "Image(url=\"bestFirstSearch.pdf\", width=600)"
   ]
  },
  {
   "cell_type": "code",
   "execution_count": null,
   "metadata": {},
   "outputs": [],
   "source": []
  }
 ],
 "metadata": {
  "kernelspec": {
   "display_name": "Python 3",
   "language": "python",
   "name": "python3"
  },
  "language_info": {
   "codemirror_mode": {
    "name": "ipython",
    "version": 3
   },
   "file_extension": ".py",
   "mimetype": "text/x-python",
   "name": "python",
   "nbconvert_exporter": "python",
   "pygments_lexer": "ipython3",
   "version": "3.8.5"
  }
 },
 "nbformat": 4,
 "nbformat_minor": 2
}
